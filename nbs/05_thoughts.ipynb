{
 "cells": [
  {
   "cell_type": "markdown",
   "id": "fc7bee2e",
   "metadata": {},
   "source": [
    "# 思考"
   ]
  },
  {
   "cell_type": "markdown",
   "id": "4b6c2750",
   "metadata": {},
   "source": [
    "### 两个人独立但是又不独立"
   ]
  },
  {
   "cell_type": "markdown",
   "id": "75b46926",
   "metadata": {},
   "source": [
    "### 做一个热爱学习的人"
   ]
  },
  {
   "cell_type": "markdown",
   "id": "0c214276",
   "metadata": {},
   "source": [
    "### 拥有付出思维"
   ]
  },
  {
   "cell_type": "markdown",
   "id": "0da2d9c7",
   "metadata": {},
   "source": []
  }
 ],
 "metadata": {
  "language_info": {
   "name": "python"
  }
 },
 "nbformat": 4,
 "nbformat_minor": 5
}

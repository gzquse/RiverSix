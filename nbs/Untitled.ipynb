{
 "cells": [
  {
   "cell_type": "code",
   "execution_count": null,
   "id": "324f2487-e4e7-4092-bf75-ff0b05f56a4f",
   "metadata": {},
   "outputs": [],
   "source": []
  }
 ],
 "metadata": {
  "kernelspec": {
   "display_name": "riversix",
   "language": "python3",
   "name": "riversix"
  }
 },
 "nbformat": 4,
 "nbformat_minor": 5
}

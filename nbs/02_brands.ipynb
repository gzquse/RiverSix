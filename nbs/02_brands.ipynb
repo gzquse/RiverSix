{
 "cells": [
  {
   "cell_type": "markdown",
   "metadata": {},
   "source": [
    "# 品味"
   ]
  },
  {
   "cell_type": "markdown",
   "metadata": {},
   "source": [
    "你史迪仔，因为他总能用那份调皮中透着温柔的眼神，让人觉得无论走到哪里，家人的温暖都在身边。他渴望爱，渴望被关怀，就像我们每个人心中最柔软的秘密。而在这诗情画意的梦境里，Jellycat巴塞罗熊其软绵绵的触感仿佛在诉说：真正的爱，总在不经意间洒满生活的每个角落。🧸"
   ]
  },
  {
   "cell_type": "markdown",
   "metadata": {},
   "source": [
    "**时尚服饰与皮具**  \n",
    "\n",
    "- **Louis Vuitton**：经典行李箱、手袋、钱包等  \n",
    "\n",
    "- **Chanel**：小香风包、斜纹软呢服饰  \n",
    "\n",
    "- **Gucci**：双G标志包、时装系列  \n",
    "\n",
    "- **Dior**：Lady Dior包、Cannage系列服装  \n",
    "- **Hermès**：Birkin包、Kelly包  \n",
    "\n",
    "- **Prada**：尼龙包、时尚服饰  \n",
    "\n",
    "- **Balenciaga**：运动鞋、时装  \n",
    "\n",
    "- **Burberry**：标志性风衣、围巾等\n",
    "\n",
    "**手表与珠宝以及其他**  \n",
    "\n",
    "- **Rolex**：Submariner、Daytona等经典系列  \n",
    "\n",
    "- **Patek Philippe**：Calatrava、Nautilus系列  \n",
    "\n",
    "- **Audemars Piguet**：Royal Oak系列  \n",
    "\n",
    "- **Cartier**：Love系列手链、Tank系列手表  \n",
    "\n",
    "- **Tiffany & Co.**：钻石首饰、Tiffany Setting戒指  \n",
    "\n",
    "- **Van Cleef & Arpels**：Alhambra系列珠宝\n",
    "\n",
    "- **香水**：如 Chanel No.5、Dior J'adore  \n",
    "\n",
    "- **豪华家居**：如 Fendi Casa、Versace Home  "
   ]
  },
  {
   "cell_type": "markdown",
   "metadata": {},
   "source": [
    "## 加大难度\n",
    "\n",
    "【时装服饰与皮具】  \n",
    "\n",
    "Off-White、Vetements、Rick Owens、Comme des Garçons、Maison Margiela、Sacai、Acne Studios、A.P.C.、Issey Miyake、Junya Watanabe、Dries Van Noten、Ann Demeulemeester、Kenzo、Marni、Palm Angels、Heron Preston、Fear of God、Alyx、Casablanca、1017 ALYX 9SM、Ader Error、MISBHV、PLEASURES、Gosha Rubchinskiy、Martine Rose、Undercover\n",
    "\n",
    "【手袋与配饰】  \n",
    "• Birkin、Kelly（Hermès）、Lady Dior（Dior）、Chanel 2.55、Gucci Marmont、Louis Vuitton Speedy/Keepall、Bottega Veneta Pouch  \n",
    "• Goyard、Valextra、Moynat、Céline\n",
    "\n",
    "【珠宝与手表】  \n",
    "• Cartier、Tiffany & Co.、Van Cleef & Arpels、Bulgari、Chopard、Piaget、Harry Winston、Graff、Boucheron  \n",
    "• Pomellato、Messika、Repsol、John Hardy、Le Gramme  \n",
    "• Rolex、Patek Philippe、Audemars Piguet、Vacheron Constantin、IWC、Jaeger-LeCoultre、Omega、Hublot、Cartier  \n",
    "• MB&F、Urwerk、Ressence、F.P. Journe、De Bethune、H. Moser & Cie\n",
    "\n",
    "【鞋履】  \n",
    "• Christian Louboutin、Jimmy Choo、Manolo Blahnik、Giuseppe Zanotti  \n",
    "• Balenciaga（Triple S、Track Sneakers）、Rick Owens、Golden Goose Deluxe Brand、Alexander McQueen、Common Projects\n",
    "\n",
    "【汽车】  \n",
    "• Rolls-Royce、Bentley、Aston Martin、Ferrari、Lamborghini、Maserati、Porsche  \n",
    "• McLaren、Pagani、Koenigsegg、Rimac\n",
    "\n",
    "【家居生活】  \n",
    "• Fendi Casa、Versace Home、Armani Casa、Ralph Lauren Home、Baccarat（水晶艺术）  \n",
    "• B&B Italia、Minotti、Poliform、Knoll、Herman Miller、Ligne Roset、Cassina  \n",
    "• Rimowa、音响（Bang & Olufsen）、顶级相机（Leica）、Montblanc书写工具\n",
    "\n",
    "【美妆与香水】  \n",
    "• Chanel No.5、Dior J'adore、Guerlain系列、Tom Ford香氛、Creed  \n",
    "• Byredo、Diptyque、Le Labo、Maison Francis Kurkdjian、Amouage、Frederic Malle、Jo Malone London、Etat Libre d'Orange、Acqua di Parma\n",
    "\n",
    "【高级运动&户外】  \n",
    "• Moncler、Stone Island、Canada Goose\n",
    "\n",
    "【其他】  \n",
    "• Vertu奢华手机  \n",
    "• Sotheby’s、Christie’s\n",
    "\n"
   ]
  },
  {
   "cell_type": "markdown",
   "metadata": {},
   "source": []
  }
 ],
 "metadata": {
  "language_info": {
   "name": "python"
  }
 },
 "nbformat": 4,
 "nbformat_minor": 2
}

{
 "cells": [
  {
   "cell_type": "markdown",
   "metadata": {},
   "source": [
    "# 通关游戏"
   ]
  },
  {
   "cell_type": "markdown",
   "metadata": {},
   "source": [
    "游戏不仅仅是一场视觉盛宴，更像是一段奇妙的探险旅程。与朋友们一起挖掘那些隐藏在角落里的彩蛋、发现开发者精心设计的小秘密，每一次意外的发现都让人心跳加速，仿佛进入了一个只有你们才懂的秘密世界。这种共享探索的乐趣，正是让游戏充满魔力的原因。"
   ]
  },
  {
   "cell_type": "markdown",
   "metadata": {},
   "source": [
    "通关的list\n",
    "\n",
    "- terraria\n",
    "- it takes two\n",
    "- luigi‘s mansion\n",
    "。。。未完待续"
   ]
  },
  {
   "cell_type": "markdown",
   "metadata": {},
   "source": []
  }
 ],
 "metadata": {},
 "nbformat": 4,
 "nbformat_minor": 2
}
